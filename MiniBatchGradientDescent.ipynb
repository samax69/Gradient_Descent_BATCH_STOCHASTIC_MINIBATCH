{
 "cells": [
  {
   "cell_type": "code",
   "execution_count": 1,
   "id": "6f01fb90-f24a-4f34-b66b-c06a1cce3799",
   "metadata": {},
   "outputs": [],
   "source": [
    "import numpy as np\n",
    "import pandas as pd\n",
    "from sklearn.model_selection import train_test_split\n",
    "from sklearn.datasets import load_diabetes"
   ]
  },
  {
   "cell_type": "code",
   "execution_count": 2,
   "id": "38f930a3-bb81-424c-b04c-017a72083c24",
   "metadata": {},
   "outputs": [],
   "source": [
    "X , y = load_diabetes(return_X_y = True)"
   ]
  },
  {
   "cell_type": "code",
   "execution_count": 7,
   "id": "16d786c4-82d5-4581-8832-e037b17dd45d",
   "metadata": {},
   "outputs": [],
   "source": [
    "X_train , X_test , y_train , y_test = train_test_split(X , y , test_size = 0.2)"
   ]
  },
  {
   "cell_type": "code",
   "execution_count": 8,
   "id": "4e8dc8ac-0eea-4ec0-a026-d174ff918b32",
   "metadata": {},
   "outputs": [
    {
     "data": {
      "text/plain": [
       "(353, 10)"
      ]
     },
     "execution_count": 8,
     "metadata": {},
     "output_type": "execute_result"
    }
   ],
   "source": [
    "X_train.shape"
   ]
  },
  {
   "cell_type": "code",
   "execution_count": 9,
   "id": "03eb425e-beff-4523-8c6b-14aae8c4c1e2",
   "metadata": {},
   "outputs": [],
   "source": [
    "class MiniBatch:\n",
    "    def __init__(self , learning_rate , epochs , batch_size):\n",
    "        self.lr = learning_rate\n",
    "        self.epochs = epochs\n",
    "        self.coef_ = None\n",
    "        self.intercept_ = None\n",
    "        self.batch_size = batch_size\n",
    "    \n",
    "    def fit(self , X_train , y_train):\n",
    "        self.coef_ = np.ones(X_train.shape[1])\n",
    "        self.intercept_ = 0\n",
    "        for i in range(self.epochs):\n",
    "            for j in range(0 , X_train.shape[0] , self.batch_size):\n",
    "                idx = np.random.randint(0 , X_train.shape[0])\n",
    "                y_hat = np.dot(X_train[idx] , self.coef_) + self.intercept_\n",
    "                intercept_derv = -2 * (y_train[idx] - y_hat)\n",
    "                self.intercept_ = self.intercept_ - (self.lr * intercept_derv)\n",
    "    \n",
    "                coef_derv = -2 * (y_train[idx] - y_hat) * X_train[idx]\n",
    "                self.coef_  = self.coef_ - (self.lr * coef_derv)\n",
    "        print(self.coef_)\n",
    "        print(self.intercept_)\n",
    "\n",
    "    def predict(self , X_test):\n",
    "        return np.dot(X_test , self.coef_) + self.intercept_\n",
    "        \n",
    "        "
   ]
  },
  {
   "cell_type": "code",
   "execution_count": 24,
   "id": "639cfa64-4f09-4791-beee-a9c8b342a78f",
   "metadata": {},
   "outputs": [],
   "source": [
    "reg  = MiniBatch(learning_rate = 0.1 , epochs = 70 , batch_size = 20)"
   ]
  },
  {
   "cell_type": "code",
   "execution_count": 25,
   "id": "9dd23cbe-eaf2-4bcd-831c-3d9abc523f77",
   "metadata": {},
   "outputs": [
    {
     "name": "stdout",
     "output_type": "stream",
     "text": [
      "[  26.28726942  -67.18538211  290.46313181  225.79825022   28.25942433\n",
      "   10.67080584 -159.7317374   116.40918214  235.43059793  114.50130207]\n",
      "160.01272957655073\n"
     ]
    }
   ],
   "source": [
    "reg.fit(X_train , y_train)"
   ]
  },
  {
   "cell_type": "code",
   "execution_count": null,
   "id": "2ac83f55-c54f-45d0-ac73-dccb916f7f87",
   "metadata": {},
   "outputs": [],
   "source": [
    "y_pred = reg.predict()"
   ]
  }
 ],
 "metadata": {
  "kernelspec": {
   "display_name": "Python 3 (ipykernel)",
   "language": "python",
   "name": "python3"
  },
  "language_info": {
   "codemirror_mode": {
    "name": "ipython",
    "version": 3
   },
   "file_extension": ".py",
   "mimetype": "text/x-python",
   "name": "python",
   "nbconvert_exporter": "python",
   "pygments_lexer": "ipython3",
   "version": "3.12.4"
  }
 },
 "nbformat": 4,
 "nbformat_minor": 5
}
